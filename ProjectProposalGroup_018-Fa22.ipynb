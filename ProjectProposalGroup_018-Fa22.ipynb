{
 "cells": [
  {
   "cell_type": "markdown",
   "metadata": {},
   "source": [
    "# COGS 108 - Final Project Proposal"
   ]
  },
  {
   "cell_type": "markdown",
   "metadata": {},
   "source": [
    "# Names\n",
    "\n",
    "- Jackson Conte\n",
    "- Andrew Nguyen\n",
    "- Anish Rajeshkumar\n",
    "- Baraa Zekeria"
   ]
  },
  {
   "cell_type": "markdown",
   "metadata": {},
   "source": [
    "# Research Question"
   ]
  },
  {
   "cell_type": "markdown",
   "metadata": {},
   "source": [
    "-  Include a specific, clear data science question.\n",
    "-  Make sure what you're measuring (variables) to answer the question is clear\n",
    "\n",
    "What is your research question? Include the specific question you're setting out to answer. This question should be specific, answerable with data, and clear. A general question with specific subquestions is permitted. (1-2 sentences)\n",
    "\n",
    "**Is there a correlation between the proportion of the type of shot and playoff success (i.e. rounds) in the past 20, 10, or 5 years?**\n",
    "- Type of shot\n",
    "- Rounds: 4 \n",
    "    - Games: Best out of 7 (first to 4 wins)"
   ]
  },
  {
   "cell_type": "markdown",
   "metadata": {},
   "source": [
    "## Background and Prior Work (Jackson and Andrew)"
   ]
  },
  {
   "cell_type": "markdown",
   "metadata": {},
   "source": [
    "With the rise of superstars like Stephen Curry, James Harden, and Kevin Durant in the past decade, the NBA has exploded in popularity, making it one of the most iconic sports leagues in the world. Between these 3 players, there exists one skill that they inhabit that has been proved pivotal in their scoring arsenal-- their 3 point shot. In the last 30 years, the game has evolved from focusing on midranged shots and shots from inside the paint, to having everybody chuck up a three every possession. As a result, teams are scrambling to adopt a team approach to the three point shot.\n",
    "\n",
    "An report by the NBA itself found that the average proportion of three point attempts amongst all shots taken has risen from around 20% to around 40%[^schuhmann]. Because the three pointer has revolutionized the game to evolve around skilled sharpshooters, many sports commentators have branded it as a *necessity* for a team's success.\n",
    "\n",
    "In 2020, ESPN published a story with the bold headline: \"NBA playoff success has never been so dependent on 3s\". The stats used to justify this claim are the proportions of shots made and points scored off of 3s among playoff teams in the past 10 years[^goldsberry]. A 2018 article by ShotTracker is largely the same [^shea].\n",
    "\n",
    "James Dator of SB Nation goes so far as to propose rule suggestions for reducing the prevalence of the 3-pointer, claiming it would be better for the variety of basketball games and strategy. He goes into more depth than most, noting that while the volume of 3-point shots has gone up, their accuracy has remained roughly the same. In his words, \n",
    "\n",
    "> There is a clear issue that players are just getting too good. Everyone is learning to be a shooter, everyone is as successful as the snipers of the early 1990s. Part of that is due to defensive limitations to free up shooters, and part is simple evolution of the league. However, it order to keep the balance so basketball remains compelling it’s clear some changes will need to be made in order to reduce the incentive to shoot from three [^dator].\n",
    "\n",
    "He cites the example of the 2015-18 NBA Finals, where the 3-point-happy Warriors took on the more \"paint-dominating\" (2-point oriented) Cavaliers as an example of variety in basketball, while deriding the years following as more homogenized. This raises the question of whether or not the Cavs are an outlier, or if more traditional basketball strategies are still viable -- in other words, whether a high 3-point percentage is truly necessary for postseason success in the modern NBA (and if so, since when).\n",
    "\n",
    "What these articles establish is that both playoff teams and the league as a whole have shifted towards 3-point shots. What they do *not* establish is a *dependency*, contrary to ESPN's assertion. The aforementioned NBA article mentions the \"copycat\" effect, where a few successful teams implementing a new strategy will be followed by the rest of the league trying to emulate it[^schuhmann]. This could very well be an alternative explanation for the overall rise in 3s, and why we are interested to see if all teams, successful and unsuccessful, who have adopted the \"3-point revolution\" are genuinely better off than those who haven't.\n",
    "\n",
    "[^schuhmann]: Schuhmann, J. (14 Oct 2021) NBA'S 3-Point Revolution: How 1 Shot Is Changing The Game. *NBA.com*. \n",
    "https://www.nba.com/news/3-point-era-nba-75\n",
    "\n",
    "[^goldsberry]: Goldsberry, K. (9 Sep 2020) NBA playoff success has never been so dependent on 3s. *ESPN*. https://www.espn.com/nba/story/_/id/29839123/nba-playoff-success-never-dependent-3s\n",
    "\n",
    "[^shea]: Shea, S. (2018) The 3-Point Revolution. *ShotTracker*.\n",
    "https://shottracker.com/articles/the-3-point-revolution\n",
    "\n",
    "[^dator]: Dator, J. (10 Mar 2021) The NBA is at a breaking point with three-point shooting. *SportsBlogs Nation*. https://www.sbnation.com/nba/2021/3/10/22323023/nba-three-point-shooting-breaking-point\n",
    "\n",
    "- Include a general introduction to your topic\n",
    "- Include explanation of what work has been done previously\n",
    "- Include citations or links to previous work\n",
    "\n",
    "This section will present the background and context of your topic and question in a few paragraphs. Include a general introduction to your topic and then describe what information you currently know about the topic after doing your initial research. Include references to other projects who have asked similar questions or approached similar problems. Explain what others have learned in their projects.\n",
    "\n",
    "Find some relevant prior work, and reference those sources, summarizing what each did and what they learned. Even if you think you have a totally novel question, find the most similar prior work that you can and discuss how it relates to your project.\n",
    "\n",
    "References can be research publications, but they need not be. Blogs, GitHub repositories, company websites, etc., are all viable references if they are relevant to your project. It must be clear which information comes from which references. (2-3 paragraphs, including at least 2 references)\n",
    "\n",
    " **Use inline citation through Markdown footnotes to specify which references support which statements** \n",
    "\n",
    "For example: After government genocide in the 20th century, real birds were replaced with surveillance drones designed to look just like bird[^lorenz]. \n",
    "Use a minimum of 2 or 3 citations, but we prefer more[^admonish]. You need enough to fully explain and back up important facts. \n",
    "\n",
    "[^lorenz]: Lorenz, T. (9 Dec 2021) Birds Aren’t Real, or Are They? Inside a Gen Z Conspiracy Theory. *The New York Times*. https://www.nytimes.com/2021/12/09/technology/birds-arent-real-gen-z-misinformation.html \n",
    "[^admonish]: Also refs should be important to the background, not some randomly chosen vaguely related stuff. Include a web link if possible in refs as above.\n",
    "\n"
   ]
  },
  {
   "cell_type": "markdown",
   "metadata": {},
   "source": [
    "# Hypothesis "
   ]
  },
  {
   "cell_type": "markdown",
   "metadata": {},
   "source": [
    "\n",
    "We predict that a higher 3-pt percentage will correlate with a better rate of playoff success. Due to the long-lasting success of the Golden State Warriors and other franchises in the playoff series, we believe that these team's three point heavy play style was a major contributor to their ability to perform well in the playoff rounds. Furthermore, we also believe that since this three point heavy playstyle is still relatively new in the NBA, teams have not fully figured out how to counter it,which also adds to the positive correlation between high three point percentage and playoff success and aids our hypothesis.\n"
   ]
  },
  {
   "cell_type": "markdown",
   "metadata": {},
   "source": [
    "# Data "
   ]
  },
  {
   "cell_type": "markdown",
   "metadata": {},
   "source": [
    "1. Explain what the **ideal** dataset you would want to answer this question. (This should include: What variables? How many observations? Who/what/how would these data be collected? How would these data be stored/organized?)\n",
    "\n",
    "**The ideal dataset would include accurate game records for the National Basketball Association (NBA) from the past 20 years that showcase the type of shots scored (e.g., three-point) and the playoff records. Therefore, the following variables that we'd like to include are the following:**\n",
    "- Home Team: Name of the team\n",
    "- Away Team: Opponent\n",
    "- Date: Date of game \n",
    "- Game Type: Season or playoff\n",
    "- Score: Total amount of points scored for both teams\n",
    "- 3-Pts Attempt: Count of 3-pts shots\n",
    "- 3-Pts Total: Sum of 3-pts shots\n",
    "- Regualar Attempt: Count of regular shots (e.g. 2 pt, free throws)\n",
    "- Regular Total: Sum of 2-pts shots\n",
    "\n",
    "**Given that our ideal dataset spans the past 20 years, we expect roughly 1,230 observations (```(30 teams x 82 games/team) / 2```) per season (2020-2021 is an exception as each team played 72 games). Our data will be collected mainly from the NBA website (will need to scrape the data) as this is the most reliable source given its the league that produces the games.**\n",
    "\n",
    "**We expect our dataset to be organized by year and binary factors (e.g. win or lose, season or playoff). Additionally, we expect to create other datasets to get info to aid our analysis such a list of teams and players.**\n",
    "\n",
    "2. Search for potential **real** datasets that could provide you with something useful for this project.  You do not have to find every piece of data you will use, but you do need to have demonstrated some idea that (a) this data is gettable and (b) that this data may be different from what your ideal is\n",
    "\n",
    "- [National Basketball Association (NBA) Stats](https://www.nba.com/stats)"
   ]
  },
  {
   "cell_type": "markdown",
   "metadata": {},
   "source": [
    "# Ethics & Privacy "
   ]
  },
  {
   "cell_type": "markdown",
   "metadata": {},
   "source": [
    "All of our data which we will collect and use is publicly available on NBA webpages and other trusted and reliable secondary sources. Each individual NBA player and team statistic is publicly disclosed with the consent of the player and the team thus no privacy issues are violated. There are no potential biases in our data due to the fact the people who collected this data within the NBA has no relation to any particular franchise or team. Ethically, we will ensure to run our analysis and explain it in an accurate and honest way.\n"
   ]
  },
  {
   "cell_type": "markdown",
   "metadata": {},
   "source": [
    "# Team Expectations"
   ]
  },
  {
   "cell_type": "markdown",
   "metadata": {},
   "source": [
    "\n",
    "Read over the [COGS108 Team Policies](https://github.com/COGS108/Projects/blob/master/COGS108_TeamPolicies.md) individually. Then, include your group’s expectations of one another for successful completion of your COGS108 project below. Discuss and agree on what all of your expectations are. Discuss how your team will communicate throughout the quarter and consider how you will communicate respectfully should conflicts arise. By including each member’s name above and by adding their name to the submission, you are indicating that you have read the COGS108 Team Policies, accept your team’s expectations below, and have every intention to fulfill them. These expectations are for your team’s use and benefit — they won’t be graded for their details.\n",
    "\n",
    "* Show up to meetings\n",
    "* Communicate well \n",
    "* Do an equitable amount of work\n",
    "* Be respectful of each other's time and skills\n",
    "* Complete work before meetings (if stuck, that's fine just communicate)"
   ]
  },
  {
   "cell_type": "markdown",
   "metadata": {},
   "source": [
    "# Project Timeline Proposal"
   ]
  },
  {
   "cell_type": "markdown",
   "metadata": {},
   "source": [
    "Specify your team's specific project timeline. An example timeline has been provided. Changes the dates, times, names, and details to fit your group's plan.\n",
    "\n",
    "If you think you will need any special resources or training outside what we have covered in COGS 108 to solve your problem, then your proposal should state these clearly. For example, if you have selected a problem that involves implementing multiple neural networks, please state this so we can make sure you know what you’re doing and so we can point you to resources you will need to implement your project. Note that you are not required to use outside methods.\n",
    "\n",
    "\n",
    "\n",
    "| Meeting Date  | Meeting Time| Completed Before Meeting  | Discuss at Meeting |\n",
    "|---|---|---|---|\n",
    "| 1/20  |  1 PM | Read & Think about COGS 108 expectations; brainstorm topics/questions  | Determine best form of communication; Discuss and decide on final project topic; discuss hypothesis; begin background research | \n",
    "| 1/26  |  10 AM |  Do background research on topic | Discuss ideal dataset(s) and ethics; draft project proposal | \n",
    "| 2/1  | 10 AM  | Edit, finalize, and submit proposal; Search for datasets  | Discuss Wrangling and possible analytical approaches; Assign group members to lead each specific part   |\n",
    "| 2/14  | 6 PM  | Import & Wrangle Data (Ant Man); EDA (Hulk) | Review/Edit wrangling/EDA; Discuss Analysis Plan   |\n",
    "| 2/23  | 12 PM  | Finalize wrangling/EDA; Begin Analysis (Iron Man; Thor) | Discuss/edit Analysis; Complete project check-in |\n",
    "| 3/13  | 12 PM  | Complete analysis; Draft results/conclusion/discussion (Wasp)| Discuss/edit full project |\n",
    "| 3/19  | Before 11:59 PM  | NA | Turn in Final Project & Group Project Surveys |"
   ]
  },
  {
   "cell_type": "code",
   "execution_count": 1,
   "metadata": {},
   "outputs": [
    {
     "data": {
      "text/html": [
       "<div>\n",
       "<style scoped>\n",
       "    .dataframe tbody tr th:only-of-type {\n",
       "        vertical-align: middle;\n",
       "    }\n",
       "\n",
       "    .dataframe tbody tr th {\n",
       "        vertical-align: top;\n",
       "    }\n",
       "\n",
       "    .dataframe thead th {\n",
       "        text-align: right;\n",
       "    }\n",
       "</style>\n",
       "<table border=\"1\" class=\"dataframe\">\n",
       "  <thead>\n",
       "    <tr style=\"text-align: right;\">\n",
       "      <th></th>\n",
       "      <th>mtg_date</th>\n",
       "      <th>mtg_time</th>\n",
       "      <th>task</th>\n",
       "      <th>mtg_agenda</th>\n",
       "    </tr>\n",
       "  </thead>\n",
       "  <tbody>\n",
       "    <tr>\n",
       "      <th>0</th>\n",
       "      <td>10-06-2022</td>\n",
       "      <td>5:00 PM</td>\n",
       "      <td>Brainstorm topics</td>\n",
       "      <td>Introduce our interests and skills, discuss po...</td>\n",
       "    </tr>\n",
       "    <tr>\n",
       "      <th>1</th>\n",
       "      <td>10-23-2022</td>\n",
       "      <td>2:00 PM</td>\n",
       "      <td>Complete proposal</td>\n",
       "      <td>Finalize topic and question; establish team ex...</td>\n",
       "    </tr>\n",
       "    <tr>\n",
       "      <th>2</th>\n",
       "      <td>10-28-2022</td>\n",
       "      <td>12:00 PM</td>\n",
       "      <td>Find datasets</td>\n",
       "      <td>Discuss proposed datasets and how it'll be col...</td>\n",
       "    </tr>\n",
       "    <tr>\n",
       "      <th>3</th>\n",
       "      <td>11-4-2022</td>\n",
       "      <td>12:00 PM</td>\n",
       "      <td>Wrangle data and EDA</td>\n",
       "      <td>Submit Data checkpoint. Discuss any potentail ...</td>\n",
       "    </tr>\n",
       "    <tr>\n",
       "      <th>4</th>\n",
       "      <td>11-11-2022</td>\n",
       "      <td>12:00 PM</td>\n",
       "      <td>Analyze findings</td>\n",
       "      <td>Discuss analysis and complete conclusion (incl...</td>\n",
       "    </tr>\n",
       "    <tr>\n",
       "      <th>5</th>\n",
       "      <td>11-18-2022</td>\n",
       "      <td>12:00 PM</td>\n",
       "      <td>Find errors within our code and analysis</td>\n",
       "      <td>Submit EDA checkpoint. Final edit of the proje...</td>\n",
       "    </tr>\n",
       "    <tr>\n",
       "      <th>6</th>\n",
       "      <td>12-2-2022</td>\n",
       "      <td>12:00 PM</td>\n",
       "      <td>NaN</td>\n",
       "      <td>Submit project and team evaluations</td>\n",
       "    </tr>\n",
       "  </tbody>\n",
       "</table>\n",
       "</div>"
      ],
      "text/plain": [
       "     mtg_date  mtg_time                                       task  \\\n",
       "0  10-06-2022   5:00 PM                          Brainstorm topics   \n",
       "1  10-23-2022   2:00 PM                          Complete proposal   \n",
       "2  10-28-2022  12:00 PM                              Find datasets   \n",
       "3   11-4-2022  12:00 PM                      Wrangle data and EDA    \n",
       "4  11-11-2022  12:00 PM                           Analyze findings   \n",
       "5  11-18-2022  12:00 PM  Find errors within our code and analysis    \n",
       "6   12-2-2022  12:00 PM                                        NaN   \n",
       "\n",
       "                                          mtg_agenda  \n",
       "0  Introduce our interests and skills, discuss po...  \n",
       "1  Finalize topic and question; establish team ex...  \n",
       "2  Discuss proposed datasets and how it'll be col...  \n",
       "3  Submit Data checkpoint. Discuss any potentail ...  \n",
       "4  Discuss analysis and complete conclusion (incl...  \n",
       "5  Submit EDA checkpoint. Final edit of the proje...  \n",
       "6                Submit project and team evaluations  "
      ]
     },
     "execution_count": 1,
     "metadata": {},
     "output_type": "execute_result"
    }
   ],
   "source": [
    "import pandas as pd\n",
    "pd.read_csv(\"team18_timeline.csv\")"
   ]
  },
  {
   "cell_type": "code",
   "execution_count": null,
   "metadata": {},
   "outputs": [],
   "source": []
  }
 ],
 "metadata": {
  "kernelspec": {
   "display_name": "Python 3 (ipykernel)",
   "language": "python",
   "name": "python3"
  },
  "language_info": {
   "codemirror_mode": {
    "name": "ipython",
    "version": 3
   },
   "file_extension": ".py",
   "mimetype": "text/x-python",
   "name": "python",
   "nbconvert_exporter": "python",
   "pygments_lexer": "ipython3",
   "version": "3.9.5"
  }
 },
 "nbformat": 4,
 "nbformat_minor": 2
}
